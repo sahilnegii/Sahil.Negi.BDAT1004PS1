{
 "cells": [
  {
   "cell_type": "markdown",
   "id": "c8fa7200",
   "metadata": {},
   "source": [
    "# Problem Set 1"
   ]
  },
  {
   "cell_type": "markdown",
   "id": "e4d5320a",
   "metadata": {},
   "source": [
    "## Question 1\n",
    "### What data type is each of the following (evaluate where necessary)?\n",
    "    5\n",
    "    5.0\n",
    "    5 > 1\n",
    "    '5'\n",
    "    5 * 2\n",
    "    '5' * 2\n",
    "    '5' + '2'\n",
    "    5 / 2\n",
    "    5 % 2\n",
    "    {5, 2, 1}\n",
    "    5 == 3\n",
    "    Pi (the number)"
   ]
  },
  {
   "cell_type": "code",
   "execution_count": 1,
   "id": "b0988d47",
   "metadata": {},
   "outputs": [
    {
     "name": "stdout",
     "output_type": "stream",
     "text": [
      "datatype of 5 is int\n",
      "datatype of 5.0 is float\n",
      "datatype of 5 > 1 is bool\n",
      "datatype of '5' is str\n",
      "datatype of 5 * 2 is int\n",
      "datatype of '5' * 2 is str\n",
      "datatype of '5' + '2' is str\n",
      "datatype of 5 / 2 is float\n",
      "datatype of 5 % 2 is int\n",
      "datatype of {5, 2, 1} is set\n",
      "datatype of 5 == 3 is bool\n",
      "datatype of Pi (the number) is float\n"
     ]
    }
   ],
   "source": [
    "print(f\"datatype of 5 is\",type(5).__name__)\n",
    "print(f\"datatype of 5.0 is\",type(5.0).__name__)\n",
    "print(f\"datatype of 5 > 1 is\",type(5 > 1).__name__)\n",
    "print(f\"datatype of '5' is\",type('5').__name__)\n",
    "print(f\"datatype of 5 * 2 is\",type(5 * 2).__name__)\n",
    "print(f\"datatype of '5' * 2 is\",type('5' * 2).__name__)\n",
    "print(f\"datatype of '5' + '2' is\",type('5' + '2').__name__)\n",
    "print(f\"datatype of 5 / 2 is\",type(5 / 2).__name__)\n",
    "print(f\"datatype of 5 % 2 is\",type(5 % 2).__name__)\n",
    "print(f\"datatype of {{5, 2, 1}} is\",type({5, 2, 1}).__name__)\n",
    "print(f\"datatype of 5 == 3 is\",type(5 == 3).__name__)\n",
    "\n",
    "import math\n",
    "print(f\"datatype of Pi (the number) is\",type(math.pi).__name__)"
   ]
  },
  {
   "cell_type": "markdown",
   "id": "a3ba4f2d",
   "metadata": {},
   "source": [
    "## Question 2\n",
    "### Write (and evaluate) python expressions that answer these questions:\n",
    "    a. How many letters are there in 'Supercalifragilisticexpialidocious'?\n",
    "    b. Does 'Supercalifragilisticexpialidocious' contain 'ice' as a substring?\n",
    "    c. Which of the following words is the longest:\n",
    "        Supercalifragilisticexpialidocious, Honorificabilitudinitatibus, or\n",
    "        Bababadalgharaghtakamminarronnkonn?\n",
    "    d. Which composer comes first in the dictionary: 'Berlioz', 'Borodin', 'Brian',\n",
    "        'Bartok', 'Bellini', 'Buxtehude', 'Bernstein'. Which one comes last?"
   ]
  },
  {
   "cell_type": "code",
   "execution_count": 8,
   "id": "2e2e37e8",
   "metadata": {},
   "outputs": [
    {
     "name": "stdout",
     "output_type": "stream",
     "text": [
      "There are 34 letters in 'Supercalifragilisticexpialidocious'.\n"
     ]
    }
   ],
   "source": [
    "# Solution 2a.\n",
    "givenWord = 'Supercalifragilisticexpialidocious'\n",
    "numberOfLetters = len(givenWord) # To get the length of the word\n",
    "print(f\"There are {numberOfLetters} letters in '{givenWord}'.\")\n"
   ]
  },
  {
   "cell_type": "code",
   "execution_count": 3,
   "id": "f1116760",
   "metadata": {},
   "outputs": [
    {
     "name": "stdout",
     "output_type": "stream",
     "text": [
      "Yes,'Supercalifragilisticexpialidocious' contains the substring 'ice'.\n"
     ]
    }
   ],
   "source": [
    "# Solution 2b.\n",
    "givenWord2 = 'Supercalifragilisticexpialidocious'\n",
    "substring = 'ice' # The substring to search for\n",
    "contain_Substring = substring in givenWord2 # To check if the substring is in the word\n",
    "if contain_Substring:\n",
    "    print(f\"Yes,'{givenWord2}' contains the substring '{substring}'.\")\n",
    "else:\n",
    "    print(f\"No,'{givenWord2}' does not contain the substring '{substring}'.\")"
   ]
  },
  {
   "cell_type": "code",
   "execution_count": 9,
   "id": "3d86c42c",
   "metadata": {},
   "outputs": [
    {
     "name": "stdout",
     "output_type": "stream",
     "text": [
      "The length of 'Supercalifragilisticexpialidocious' is 34.\n",
      "The length of 'Honorificabilitudinitatibus' is 27.\n",
      "The length of 'Bababadalgharaghtakamminarronnkonn' is 34.\n",
      "The longest words are:\n",
      "'Supercalifragilisticexpialidocious' with a length of 34.\n",
      "'Bababadalgharaghtakamminarronnkonn' with a length of 34.\n"
     ]
    }
   ],
   "source": [
    "# Solution 2c.\n",
    "givenwords3 = [\n",
    "    'Supercalifragilisticexpialidocious',\n",
    "    'Honorificabilitudinitatibus',\n",
    "    'Bababadalgharaghtakamminarronnkonn',\n",
    "]\n",
    "\n",
    "# To store the longest words and their length\n",
    "longest_words = []\n",
    "longest_word_length = 0\n",
    "\n",
    "# To iterate through the words\n",
    "for word in givenwords3:\n",
    "    # To calculate the length of the current word\n",
    "    word_length = len(word)\n",
    "    \n",
    "    # To print the length of the current word\n",
    "    print(f\"The length of '{word}' is {word_length}.\")\n",
    "    \n",
    "    # To check if the current word is longer than or equal to the longest words found so far\n",
    "    if word_length > longest_word_length:\n",
    "        longest_words = [word]\n",
    "        longest_word_length = word_length\n",
    "    elif word_length == longest_word_length:\n",
    "        longest_words.append(word)\n",
    "\n",
    "# To print the longest words\n",
    "if len(longest_words) > 1:\n",
    "    print(\"The longest words are:\")\n",
    "    for longest_word in longest_words:\n",
    "        print(f\"'{longest_word}' with a length of {longest_word_length}.\")\n",
    "else:\n",
    "    print(f\"The longest word is '{longest_words[0]}' with a length of {longest_word_length}.\")"
   ]
  },
  {
   "cell_type": "code",
   "execution_count": 10,
   "id": "2356091a",
   "metadata": {},
   "outputs": [
    {
     "name": "stdout",
     "output_type": "stream",
     "text": [
      "The first composer in the dictionary is 'Bartok'.\n",
      "The last composer in the dictionary is 'Buxtehude'.\n"
     ]
    }
   ],
   "source": [
    "# Solution 2d.\n",
    "composers_list = ['Berlioz', 'Borodin', 'Brian', 'Bartok', 'Bellini', 'Buxtehude', 'Bernstein']\n",
    "first_composer = min(composers_list)\n",
    "last_composer = max(composers_list)\n",
    "print(f\"The first composer in the dictionary is '{first_composer}'.\")\n",
    "print(f\"The last composer in the dictionary is '{last_composer}'.\")"
   ]
  },
  {
   "cell_type": "markdown",
   "id": "b5fc9ee1",
   "metadata": {},
   "source": [
    "## Question 3\n",
    "### Implement function triangleArea(a,b,c) that takes as input the lengths of the 3 sides of a triangle and returns the area of the triangle. \n",
    "    By Heron's formula, the area of a triangle with side lengths a, b, and c is squareroot of {s(s - a)(s -b)(s -c)}, where s = (a+b+c)/2. \n",
    "    >>> triangleArea(2,2,2) \n",
    "    1.7320508075688772"
   ]
  },
  {
   "cell_type": "code",
   "execution_count": 12,
   "id": "01bf91fd",
   "metadata": {},
   "outputs": [
    {
     "name": "stdout",
     "output_type": "stream",
     "text": [
      "1.7320508075688772\n"
     ]
    }
   ],
   "source": [
    "import math\n",
    "\n",
    "def triangleArea(a, b, c):\n",
    "    s = (a + b + c) / 2 # To calculate the semi-perimeter (s)\n",
    "    calculate_area = math.sqrt(s * (s - a) * (s - b) * (s - c)) # To calculate the area using Heron's formula\n",
    "    return calculate_area\n",
    "\n",
    "# To display triangleArea(2,2,2)\n",
    "result = triangleArea(2, 2, 2)\n",
    "print(result)"
   ]
  },
  {
   "cell_type": "markdown",
   "id": "3f414f39",
   "metadata": {},
   "source": [
    "## Question 4\n",
    "### Write a program in python to separate odd and even integers in separate arrays. \n",
    "    Go to the editor\n",
    "    Test Data :\n",
    "    Input the number of elements to be stored in the array :5\n",
    "    Input 5 elements in the array :\n",
    "    element - 0 : 25\n",
    "    element - 1 : 47\n",
    "    element - 2 : 42\n",
    "    element - 3 : 56\n",
    "    element - 4 : 32\n",
    "    Expected Output:\n",
    "    The Even elements are:\n",
    "    42 56 32\n",
    "    The Odd elements are :\n",
    "    25 47"
   ]
  },
  {
   "cell_type": "code",
   "execution_count": 17,
   "id": "c6f28d64",
   "metadata": {},
   "outputs": [
    {
     "name": "stdout",
     "output_type": "stream",
     "text": [
      "Input the number of elements to be stored in the array : 5\n",
      "element - 0 : 25\n",
      "element - 1 : 47\n",
      "element - 2 : 42\n",
      "element - 3 : 56\n",
      "element - 4 : 32\n",
      "The Even elements are:\n",
      "[42, 56, 32]\n",
      "The Odd elements are:\n",
      "[25, 47]\n"
     ]
    }
   ],
   "source": [
    "input_elements = int(input(\"Input the number of elements to be stored in the array : \"))\n",
    "\n",
    "even_number = []\n",
    "odd_number = []\n",
    "\n",
    "for i in range(input_elements):\n",
    "    j = int(input(f\"element - {i} : \"))\n",
    "    \n",
    "    if j%2==0:\n",
    "        even_number.append(j)\n",
    "    else:\n",
    "        odd_number.append(j)\n",
    "        \n",
    "print(\"The Even elements are:\")        \n",
    "print(even_number)\n",
    "print(\"The Odd elements are:\")   \n",
    "print(odd_number)"
   ]
  },
  {
   "cell_type": "markdown",
   "id": "e2dd2fb9",
   "metadata": {},
   "source": [
    "## Question 5\n",
    "    a. Write a function inside(x,y,x1,y1,x2,y2) that returns True or False \n",
    "    depending on whether the point (x,y) lies in the rectangle with lower left \n",
    "    corner (x1,y1) and upper right corner (x2,y2).\n",
    "    >>> inside(1,1,0,0,2,3)\n",
    "    True\n",
    "    >>> inside(-1,-1,0,0,2,3)\n",
    "    False\n",
    "    b. Use function inside() from part a. to write an expression that tests whether \n",
    "    the point (1,1) lies in both of the following rectangles: one with lower left \n",
    "    corner (0.3, 0.5) and upper right corner (1.1, 0.7) and the other with lower \n",
    "    left corner (0.5, 0.2) and upper right corner (1.1, 2)."
   ]
  },
  {
   "cell_type": "code",
   "execution_count": 18,
   "id": "67330c77",
   "metadata": {},
   "outputs": [
    {
     "name": "stdout",
     "output_type": "stream",
     "text": [
      "True\n",
      "False\n"
     ]
    }
   ],
   "source": [
    "def inside(x, y, x1, y1, x2, y2):\n",
    "    return x1 <= x <= x2 and y1 <= y <= y2\n",
    "\n",
    "# To check given inputs\n",
    "print(inside(1, 1, 0, 0, 2, 3))   \n",
    "print(inside(-1, -1, 0, 0, 2, 3))"
   ]
  },
  {
   "cell_type": "code",
   "execution_count": 19,
   "id": "86db908e",
   "metadata": {},
   "outputs": [
    {
     "name": "stdout",
     "output_type": "stream",
     "text": [
      "Is (1, 1) inside the first rectangle? False\n",
      "Is (1, 1) inside the second rectangle? True\n"
     ]
    }
   ],
   "source": [
    "# Given rectangle coordinates\n",
    "rectangle1 = (0.3, 0.5, 1.1, 0.7)\n",
    "rectangle2 = (0.5, 0.2, 1.1, 2)\n",
    "\n",
    "# To check if (1, 1) is inside both rectangles\n",
    "is_inside_rect1 = inside(1, 1, *rectangle1)\n",
    "is_inside_rect2 = inside(1, 1, *rectangle2)\n",
    "\n",
    "# To display the results\n",
    "print(\"Is (1, 1) inside the first rectangle?\", is_inside_rect1)\n",
    "print(\"Is (1, 1) inside the second rectangle?\", is_inside_rect2)"
   ]
  },
  {
   "cell_type": "markdown",
   "id": "4f705eef",
   "metadata": {},
   "source": [
    "## Question 6\n",
    "### You can turn a word into pig-Latin using the following two rules (simplified):\n",
    "    • If the word starts with a consonant, move that letter to the end and append \n",
    "    'ay'. For example, 'happy' becomes 'appyhay' and 'pencil' becomes 'encilpay'.\n",
    "    • If the word starts with a vowel, simply append 'way' to the end of the word. \n",
    "    For example, 'enter' becomes 'enterway' and 'other' becomes 'otherway' . For \n",
    "    our purposes, there are 5 vowels: a, e, i, o, u (so we count y as a consonant).\n",
    "    Write a function pig() that takes a word (i.e., a string) as input and returns its pig-Latin form. Your function should still work if the input word contains upper case \n",
    "    characters. Your output should always be lower case however. \n",
    "    >>> pig('happy')\n",
    "    'appyhay'\n",
    "    >>> pig('Enter')\n",
    "    'enterway'"
   ]
  },
  {
   "cell_type": "code",
   "execution_count": 21,
   "id": "a64c39e3",
   "metadata": {},
   "outputs": [
    {
     "name": "stdout",
     "output_type": "stream",
     "text": [
      "appyhay\n",
      "enterway\n"
     ]
    }
   ],
   "source": [
    "def pig(givenWord6):\n",
    "    \n",
    "    givenWord6 = givenWord6.lower() # Convert word to lowercase to ensure consistency\n",
    "    \n",
    "    vowels = {'a', 'e', 'i', 'o', 'u'}\n",
    "\n",
    "    if givenWord6[0] not in vowels: # Check if the word starts with a consonant\n",
    "        pig_latin_word = givenWord6[1:] + givenWord6[0] + 'ay' # Move the first letter to the end and append 'ay'\n",
    "    else:\n",
    "        pig_latin_word = givenWord6 + 'way' # If it starts with a vowel, simply append 'way'\n",
    "\n",
    "    return pig_latin_word\n",
    "\n",
    "# Display the given inputs in questions\n",
    "print(pig('happy'))\n",
    "print(pig('Enter')) "
   ]
  },
  {
   "cell_type": "markdown",
   "id": "68389804",
   "metadata": {},
   "source": [
    "## Question 7\n",
    "### File bloodtype1.txt records blood-types of patients (A, B, AB, O or OO) at a clinic. \n",
    "    Write a function bldcount() that reads the file with name name and reports (i.e., \n",
    "    prints) how many patients there are in each bloodtype.\n",
    "    >>> bldcount('bloodtype.txt')\n",
    "    There are 10 patients of blood type A.\n",
    "    There is one patient of blood type B.\n",
    "    There are 10 patients of blood type AB.\n",
    "    There are 12 patients of blood type O.\n",
    "    There are no patients of blood type OO."
   ]
  },
  {
   "cell_type": "code",
   "execution_count": 24,
   "id": "d7ff6e30",
   "metadata": {},
   "outputs": [
    {
     "name": "stdout",
     "output_type": "stream",
     "text": [
      "There are 15 patients of blood type A.\n",
      "There are 1 patients of blood type B.\n",
      "There are 13 patients of blood type AB.\n",
      "There are 15 patients of blood type O.\n",
      "There are 0 patients of blood type OO.\n"
     ]
    }
   ],
   "source": [
    "def bldcount(filename):\n",
    "    \n",
    "    file = open(filename, 'r') # To open the file for reading\n",
    "    \n",
    "    data = file.readline() # To read the first line from the file\n",
    "    \n",
    "    words_list = [] # To initialize an empty list to store the words\n",
    "    \n",
    "    blood_types = ['A', 'B', 'AB', 'O', 'OO'] # To efine the blood types to count\n",
    "\n",
    "    words_list.append(data.split(\" \")) # To split the words and store them in a list\n",
    "    \n",
    "    for blood_type in blood_types: # To iterate through the blood types and count patients\n",
    "        \n",
    "        count = words_list[0].count(blood_type) # To count the occurrences of the blood type in the list\n",
    "        \n",
    "        print(\"There are {} patients of blood type {}.\".format(count, blood_type)) # To print the count for each blood type\n",
    "\n",
    "# To call the function\n",
    "bldcount('bloodtype1.txt')"
   ]
  },
  {
   "cell_type": "markdown",
   "id": "93acd665",
   "metadata": {},
   "source": [
    "## Question 8\n",
    "### Write a function curconv() that takes as input:\n",
    "    1. a currency represented using a string (e.g., 'JPY' for the Japanese Yen or \n",
    "    'EUR' for the Euro)\n",
    "    2. an amount\n",
    "    and then converts and returns the amount in US dollars.\n",
    "    >>> curconv('EUR', 100)\n",
    "    122.96544\n",
    "    >>> curconv('JPY', 100)\n",
    "    1.241401\n",
    "    The currency rates you will need are stored in file currencies.txt:\n",
    "    AUD 1.0345157 Australian Dollar\n",
    "    CHF 1.0237414 Swiss Franc\n",
    "    CNY 0.1550176 Chinese Yuan\n",
    "    DKK 0.1651442 Danish Krone\n",
    "    EUR 1.2296544 Euro\n",
    "    GBP 1.5550989 British Pound\n",
    "    HKD 0.1270207 Hong Kong Dollar\n",
    "    INR 0.0177643 Indian Rupee\n",
    "    JPY 0.01241401 Japanese Yen\n",
    "    MXN 0.0751848 Mexican Peso\n",
    "    MYR 0.3145411 Malaysian Ringgit\n",
    "    NOK 0.1677063 Norwegian Krone\n",
    "    NZD 0.8003591 New Zealand Dollar\n",
    "    PHP 0.0233234 Philippine Peso\n",
    "    SEK 0.148269 Swedish Krona\n",
    "    SGD 0.788871 Singapore Dollar\n",
    "    THB 0.0313789 Thai Baht"
   ]
  },
  {
   "cell_type": "code",
   "execution_count": 27,
   "id": "63a0b7c1",
   "metadata": {},
   "outputs": [
    {
     "name": "stdout",
     "output_type": "stream",
     "text": [
      "122.96544\n"
     ]
    }
   ],
   "source": [
    "def curconv(target_currency, amount):\n",
    "    currency_data = {}\n",
    "    \n",
    "    currency_file = open('currencies.txt') # To open and read the currency conversion file\n",
    "    file_lines = currency_file.readlines()\n",
    "    \n",
    "    # To parse the lines to create a dictionary with currency codes as keys and conversion values and names as values\n",
    "    for line in file_lines:\n",
    "        code = line[:3].strip() # To extracts the first 3 characters from the line (assumed to be the currency code)\n",
    "        values = line[4:].split(\"\\t\") # To extracts the characters from the 4th position onward (assumed to be the conversion values and names)\n",
    "        currency_data[code] = (values[0].strip(), values[1].strip())\n",
    "    \n",
    "    # To retrieve the conversion value for the target currency and calculate the converted amount\n",
    "    conversion_rate = float(currency_data[target_currency][0])\n",
    "    converted_amount = amount * conversion_rate\n",
    "    \n",
    "    # To display the converted amount\n",
    "    print(converted_amount)\n",
    "\n",
    "# Example usage:\n",
    "curconv('EUR', 100)"
   ]
  },
  {
   "cell_type": "code",
   "execution_count": 28,
   "id": "cc30cf98",
   "metadata": {},
   "outputs": [
    {
     "name": "stdout",
     "output_type": "stream",
     "text": [
      "1.241401\n"
     ]
    }
   ],
   "source": [
    "curconv('JPY', 100)"
   ]
  },
  {
   "cell_type": "markdown",
   "id": "4a300289",
   "metadata": {},
   "source": [
    "## Question 9\n",
    "### Each of the following will cause an exception (an error). Identify what type of exception each will cause.\n",
    "    Trying to add incompatible variables, as in adding 6 + ‘a’\n",
    "    Referring to the 12th item of a list that has only 10 items\n",
    "    Using a value that is out of range for a function’s input, such as calling math.sqrt(-1.0)\n",
    "    Using an undeclared variable, such as print(x) when x has not been defined \n",
    "    Trying to open a file that does not exist, such as mistyping the file name or looking in the wrong directory."
   ]
  },
  {
   "cell_type": "code",
   "execution_count": 47,
   "id": "df455120",
   "metadata": {},
   "outputs": [
    {
     "name": "stdout",
     "output_type": "stream",
     "text": [
      "Exception type: TypeError\n"
     ]
    }
   ],
   "source": [
    "# Trying to add an integer and a string will result in a TypeError.\n",
    "\n",
    "try:\n",
    "    result = 6 + 'a'\n",
    "except TypeError as e:\n",
    "    print(f\"Exception type: {type(e).__name__}\")"
   ]
  },
  {
   "cell_type": "code",
   "execution_count": 40,
   "id": "818f56a3",
   "metadata": {},
   "outputs": [
    {
     "name": "stdout",
     "output_type": "stream",
     "text": [
      "Exception type: IndexError\n"
     ]
    }
   ],
   "source": [
    "# Trying to access an element beyond the list's index range, an IndexError will occur.\n",
    "\n",
    "try:\n",
    "    my_list = [1, 2, 3, 4, 5, 6, 7, 8, 9, 10]\n",
    "    item = my_list[12]\n",
    "except IndexError as e:\n",
    "    print(f\"Exception type: {type(e).__name__}\")"
   ]
  },
  {
   "cell_type": "code",
   "execution_count": 41,
   "id": "62464f4f",
   "metadata": {},
   "outputs": [
    {
     "name": "stdout",
     "output_type": "stream",
     "text": [
      "Exception type: ValueError\n"
     ]
    }
   ],
   "source": [
    "# Trying to calculate the square root of a negative number will lead to a ValueError.\n",
    "\n",
    "import math\n",
    "\n",
    "try:\n",
    "    result = math.sqrt(-1.0)\n",
    "except ValueError as e:\n",
    "    print(f\"Exception type: {type(e).__name__}\")"
   ]
  },
  {
   "cell_type": "code",
   "execution_count": 42,
   "id": "10db238f",
   "metadata": {},
   "outputs": [
    {
     "name": "stdout",
     "output_type": "stream",
     "text": [
      "Exception type: NameError\n"
     ]
    }
   ],
   "source": [
    "# Trying to print an undeclared variable (in this case, 'var') will result in a NameError\n",
    "\n",
    "try:\n",
    "    print(var)\n",
    "except NameError as e:\n",
    "    print(f\"Exception type: {type(e).__name__}\")"
   ]
  },
  {
   "cell_type": "code",
   "execution_count": 43,
   "id": "9a44d8e4",
   "metadata": {},
   "outputs": [
    {
     "name": "stdout",
     "output_type": "stream",
     "text": [
      "Exception type: FileNotFoundError\n"
     ]
    }
   ],
   "source": [
    "# Trying to open a non-existent file (such as 'non_existent_file.txt'), the code will trigger a FileNotFoundError.\n",
    "\n",
    "try:\n",
    "    with open('non_existent_file.txt', 'r'):\n",
    "        pass\n",
    "except FileNotFoundError as e:\n",
    "    print(f\"Exception type: {type(e).__name__}\")"
   ]
  },
  {
   "cell_type": "markdown",
   "id": "02b47129",
   "metadata": {},
   "source": [
    "## Question 10\n",
    "    Encryption is the process of hiding the meaning of a text by substituting letters in the \n",
    "    message with other letters, according to some system. If the process is successful, no \n",
    "    one but the intended recipient can understand the encrypted message. Cryptanalysis\n",
    "    refers to attempts to undo the encryption, even if some details of the encryption are \n",
    "    unknown (for example, if an encrypted message has been intercepted). The first step \n",
    "    of cryptanalysis is often to build up a table of letter frequencies in the encrypted text. \n",
    "    Assume that the string letters is already defined as \n",
    "    'abcdefghijklmnopqrstuvwxyz'. Write a function called frequencies()\n",
    "    that takes a string as its only parameter, and returns a list of integers, showing the \n",
    "    number of times each character appears in the text. Your function may ignore any \n",
    "    characters that are not in letters. \n",
    "    >>> frequencies('The quick red fox got bored and went home.')\n",
    "    [1, 1, 1, 3, 5, 1, 1, 2, 1, 0, 1, 0, 1, 2, 4, 0, 1, 2, 0, 2, \n",
    "    1, 0, 1, 1, 0, 0]\n",
    "    >>> frequencies('apple')"
   ]
  },
  {
   "cell_type": "code",
   "execution_count": 50,
   "id": "7d71adca",
   "metadata": {},
   "outputs": [
    {
     "name": "stdout",
     "output_type": "stream",
     "text": [
      "[1, 1, 1, 3, 5, 1, 1, 2, 1, 0, 1, 0, 1, 2, 4, 0, 1, 2, 0, 3, 1, 0, 1, 1, 0, 0]\n"
     ]
    }
   ],
   "source": [
    "def frequencies(text):\n",
    "    \n",
    "    letters = 'abcdefghijklmnopqrstuvwxyz' # To define the string of letters\n",
    "\n",
    "    char_counts = [0] * 26 # For each index representing a different character (a to z).\n",
    "\n",
    "    text = text.lower() # To convert the input text to lowercase for consistency\n",
    "\n",
    "    for char in text: # To iterate through each character in the input text\n",
    "        if char in letters:\n",
    "            index = letters.index(char) # To calculate the index of the character in letters and increment the count\n",
    "            char_counts[index] += 1\n",
    "\n",
    "    return char_counts\n",
    "\n",
    "result1 = frequencies('The quick red fox got bored and went home.')\n",
    "print(result1)"
   ]
  },
  {
   "cell_type": "code",
   "execution_count": 51,
   "id": "68d13082",
   "metadata": {},
   "outputs": [
    {
     "name": "stdout",
     "output_type": "stream",
     "text": [
      "[1, 0, 0, 0, 1, 0, 0, 0, 0, 0, 0, 1, 0, 0, 0, 2, 0, 0, 0, 0, 0, 0, 0, 0, 0, 0]\n"
     ]
    }
   ],
   "source": [
    "result2 = frequencies('apple')\n",
    "print(result2)"
   ]
  }
 ],
 "metadata": {
  "kernelspec": {
   "display_name": "Python 3 (ipykernel)",
   "language": "python",
   "name": "python3"
  },
  "language_info": {
   "codemirror_mode": {
    "name": "ipython",
    "version": 3
   },
   "file_extension": ".py",
   "mimetype": "text/x-python",
   "name": "python",
   "nbconvert_exporter": "python",
   "pygments_lexer": "ipython3",
   "version": "3.11.4"
  }
 },
 "nbformat": 4,
 "nbformat_minor": 5
}
